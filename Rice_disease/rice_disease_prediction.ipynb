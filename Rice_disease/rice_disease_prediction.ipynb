{
  "nbformat": 4,
  "nbformat_minor": 0,
  "metadata": {
    "colab": {
      "name": "rice-disease-prediction.ipynb",
      "provenance": [],
      "collapsed_sections": []
    },
    "kernelspec": {
      "name": "python3",
      "display_name": "Python 3"
    },
    "language_info": {
      "name": "python"
    }
  },
  "cells": [
    {
      "cell_type": "markdown",
      "source": [
        "# Import Library"
      ],
      "metadata": {
        "id": "TftbsAvLM7-6"
      }
    },
    {
      "cell_type": "code",
      "source": [
        "! pip install kaggle"
      ],
      "metadata": {
        "colab": {
          "base_uri": "https://localhost:8080/"
        },
        "id": "ds0-4r98M7lO",
        "outputId": "950398f5-e8c3-4da5-eb95-8d6296277177"
      },
      "execution_count": 1,
      "outputs": [
        {
          "output_type": "stream",
          "name": "stdout",
          "text": [
            "Requirement already satisfied: kaggle in /usr/local/lib/python3.7/dist-packages (1.5.12)\n",
            "Requirement already satisfied: certifi in /usr/local/lib/python3.7/dist-packages (from kaggle) (2021.10.8)\n",
            "Requirement already satisfied: requests in /usr/local/lib/python3.7/dist-packages (from kaggle) (2.23.0)\n",
            "Requirement already satisfied: python-slugify in /usr/local/lib/python3.7/dist-packages (from kaggle) (6.1.2)\n",
            "Requirement already satisfied: urllib3 in /usr/local/lib/python3.7/dist-packages (from kaggle) (1.24.3)\n",
            "Requirement already satisfied: tqdm in /usr/local/lib/python3.7/dist-packages (from kaggle) (4.64.0)\n",
            "Requirement already satisfied: python-dateutil in /usr/local/lib/python3.7/dist-packages (from kaggle) (2.8.2)\n",
            "Requirement already satisfied: six>=1.10 in /usr/local/lib/python3.7/dist-packages (from kaggle) (1.15.0)\n",
            "Requirement already satisfied: text-unidecode>=1.3 in /usr/local/lib/python3.7/dist-packages (from python-slugify->kaggle) (1.3)\n",
            "Requirement already satisfied: idna<3,>=2.5 in /usr/local/lib/python3.7/dist-packages (from requests->kaggle) (2.10)\n",
            "Requirement already satisfied: chardet<4,>=3.0.2 in /usr/local/lib/python3.7/dist-packages (from requests->kaggle) (3.0.4)\n"
          ]
        }
      ]
    },
    {
      "cell_type": "code",
      "source": [
        "import numpy as np\n",
        "import pandas as pd\n",
        "import tensorflow as tf"
      ],
      "metadata": {
        "id": "f_L3l-7TNnj1"
      },
      "execution_count": 3,
      "outputs": []
    },
    {
      "cell_type": "markdown",
      "source": [
        "# Gathering Data"
      ],
      "metadata": {
        "id": "yBXgJzfbMSOu"
      }
    },
    {
      "cell_type": "code",
      "source": [
        "! mkdir data"
      ],
      "metadata": {
        "id": "ggpfbXxlPY68"
      },
      "execution_count": 12,
      "outputs": []
    },
    {
      "cell_type": "markdown",
      "source": [
        "### Initialize Kaggle"
      ],
      "metadata": {
        "id": "AmitcAHGO3gC"
      }
    },
    {
      "cell_type": "code",
      "source": [
        "! mkdir ~/.kaggle\n",
        "! cp kaggle.json ~/.kaggle/\n",
        "! chmod 600 ~/.kaggle/kaggle.json"
      ],
      "metadata": {
        "id": "_2446YjTO0ud"
      },
      "execution_count": null,
      "outputs": []
    },
    {
      "cell_type": "markdown",
      "source": [
        "### Download shayanriyaz Dataset\n",
        "Classes : BrownSpot (418:105), Healthy (1191:297), Hispa (452:113), LeafBlast (623:156)"
      ],
      "metadata": {
        "id": "4ezCnbDcOhUh"
      }
    },
    {
      "cell_type": "code",
      "execution_count": 10,
      "metadata": {
        "colab": {
          "base_uri": "https://localhost:8080/"
        },
        "id": "Q3kVeYfeMF4V",
        "outputId": "b652948f-a37f-4041-bac8-d2fa521b7c0e"
      },
      "outputs": [
        {
          "output_type": "stream",
          "name": "stdout",
          "text": [
            "Downloading riceleafs.zip to /content\n",
            "100% 14.9G/14.9G [02:01<00:00, 131MB/s]\n",
            "100% 14.9G/14.9G [02:01<00:00, 132MB/s]\n"
          ]
        }
      ],
      "source": [
        "! kaggle datasets download -d shayanriyaz/riceleafs\n",
        "! mkdir data/shayanriyaz\n",
        "! unzip riceleafs.zip -d data/shayanriyaz\n",
        "os.remove('riceleafs.zip')"
      ]
    },
    {
      "cell_type": "markdown",
      "source": [
        "### Download chandrug Dataset\n",
        "Classes : Leaf smut (40), Brown spot (40), Blast (80), Blight (80), Tungro (80)"
      ],
      "metadata": {
        "id": "taXRRjCPRTyW"
      }
    },
    {
      "cell_type": "code",
      "source": [
        "! kaggle datasets download -d chandrug/riceleafdisease\n",
        "! mkdir data/chandrug\n",
        "! unzip riceleafdisease.zip -d data/chandrug\n",
        "os.remove('riceleafdisease.zip')"
      ],
      "metadata": {
        "id": "5xj11fDYQlPd"
      },
      "execution_count": null,
      "outputs": []
    },
    {
      "cell_type": "markdown",
      "source": [
        "### Download tedisetiady Dataset\n",
        "Classes : Blast (80), Blight (80), Tungro (80)"
      ],
      "metadata": {
        "id": "fvzCOe2GR2Hr"
      }
    },
    {
      "cell_type": "code",
      "source": [
        "! kaggle datasets download -d tedisetiady/leaf-rice-disease-indonesia\n",
        "! mkdir data/tedisetiady\n",
        "! unzip leaf-rice-disease-indonesia.zip -d data/tedisetiady\n",
        "os.remove('leaf-rice-disease-indonesia.zip')"
      ],
      "metadata": {
        "id": "4cDwpsY0R2Zo"
      },
      "execution_count": null,
      "outputs": []
    },
    {
      "cell_type": "markdown",
      "source": [
        "### Download vbookshelf Dataset\n",
        "Classes : Leaf smut (40), Brown spot (40), Blight (40)"
      ],
      "metadata": {
        "id": "ItQT8PxXSJqX"
      }
    },
    {
      "cell_type": "code",
      "source": [
        "! kaggle datasets download -d vbookshelf/rice-leaf-diseases\n",
        "! mkdir data/vbookshelf\n",
        "! unzip rice-leaf-diseases.zip -d data/vbookshelf\n",
        "os.remove('rice-leaf-diseases.zip')"
      ],
      "metadata": {
        "id": "cLEqJe4CSKD8"
      },
      "execution_count": null,
      "outputs": []
    },
    {
      "cell_type": "code",
      "source": [
        ""
      ],
      "metadata": {
        "id": "1aUWI9n0SyZO"
      },
      "execution_count": null,
      "outputs": []
    }
  ]
}