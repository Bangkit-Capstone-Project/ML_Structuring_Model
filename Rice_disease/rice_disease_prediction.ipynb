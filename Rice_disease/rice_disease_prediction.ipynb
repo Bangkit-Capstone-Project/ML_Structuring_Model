{
  "nbformat": 4,
  "nbformat_minor": 0,
  "metadata": {
    "colab": {
      "name": "rice-disease-prediction.ipynb",
      "provenance": [],
      "collapsed_sections": [
        "JcleOkJxd3cl",
        "b-8h5y2ilFPr",
        "cRmqbTHnliMh"
      ]
    },
    "kernelspec": {
      "name": "python3",
      "display_name": "Python 3"
    },
    "language_info": {
      "name": "python"
    }
  },
  "cells": [
    {
      "cell_type": "markdown",
      "source": [
        "# Import Library"
      ],
      "metadata": {
        "id": "TftbsAvLM7-6"
      }
    },
    {
      "cell_type": "code",
      "source": [
        "! pip install kaggle"
      ],
      "metadata": {
        "colab": {
          "base_uri": "https://localhost:8080/"
        },
        "id": "ds0-4r98M7lO",
        "outputId": "950398f5-e8c3-4da5-eb95-8d6296277177"
      },
      "execution_count": null,
      "outputs": [
        {
          "output_type": "stream",
          "name": "stdout",
          "text": [
            "Requirement already satisfied: kaggle in /usr/local/lib/python3.7/dist-packages (1.5.12)\n",
            "Requirement already satisfied: certifi in /usr/local/lib/python3.7/dist-packages (from kaggle) (2021.10.8)\n",
            "Requirement already satisfied: requests in /usr/local/lib/python3.7/dist-packages (from kaggle) (2.23.0)\n",
            "Requirement already satisfied: python-slugify in /usr/local/lib/python3.7/dist-packages (from kaggle) (6.1.2)\n",
            "Requirement already satisfied: urllib3 in /usr/local/lib/python3.7/dist-packages (from kaggle) (1.24.3)\n",
            "Requirement already satisfied: tqdm in /usr/local/lib/python3.7/dist-packages (from kaggle) (4.64.0)\n",
            "Requirement already satisfied: python-dateutil in /usr/local/lib/python3.7/dist-packages (from kaggle) (2.8.2)\n",
            "Requirement already satisfied: six>=1.10 in /usr/local/lib/python3.7/dist-packages (from kaggle) (1.15.0)\n",
            "Requirement already satisfied: text-unidecode>=1.3 in /usr/local/lib/python3.7/dist-packages (from python-slugify->kaggle) (1.3)\n",
            "Requirement already satisfied: idna<3,>=2.5 in /usr/local/lib/python3.7/dist-packages (from requests->kaggle) (2.10)\n",
            "Requirement already satisfied: chardet<4,>=3.0.2 in /usr/local/lib/python3.7/dist-packages (from requests->kaggle) (3.0.4)\n"
          ]
        }
      ]
    },
    {
      "cell_type": "code",
      "source": [
        "import numpy as np\n",
        "import pandas as pd\n",
        "import tensorflow as tf\n",
        "import os\n",
        "import shutil"
      ],
      "metadata": {
        "id": "f_L3l-7TNnj1"
      },
      "execution_count": null,
      "outputs": []
    },
    {
      "cell_type": "markdown",
      "source": [
        "# Gathering Data"
      ],
      "metadata": {
        "id": "yBXgJzfbMSOu"
      }
    },
    {
      "cell_type": "code",
      "source": [
        "! mkdir data"
      ],
      "metadata": {
        "id": "ggpfbXxlPY68"
      },
      "execution_count": null,
      "outputs": []
    },
    {
      "cell_type": "markdown",
      "source": [
        "## Download Dataset from Kaggle"
      ],
      "metadata": {
        "id": "32MqT4InYs4v"
      }
    },
    {
      "cell_type": "markdown",
      "source": [
        "### Initialize Kaggle"
      ],
      "metadata": {
        "id": "AmitcAHGO3gC"
      }
    },
    {
      "cell_type": "code",
      "source": [
        "! mkdir ~/.kaggle\n",
        "! cp kaggle.json ~/.kaggle/\n",
        "! chmod 600 ~/.kaggle/kaggle.json"
      ],
      "metadata": {
        "id": "_2446YjTO0ud"
      },
      "execution_count": null,
      "outputs": []
    },
    {
      "cell_type": "markdown",
      "source": [
        "### Download shayanriyaz Dataset\n",
        "Classes : BrownSpot (418:105), Healthy (1191:297), Hispa (452:113), LeafBlast (623:156)"
      ],
      "metadata": {
        "id": "4ezCnbDcOhUh"
      }
    },
    {
      "cell_type": "code",
      "execution_count": null,
      "metadata": {
        "colab": {
          "base_uri": "https://localhost:8080/"
        },
        "id": "Q3kVeYfeMF4V",
        "outputId": "b652948f-a37f-4041-bac8-d2fa521b7c0e"
      },
      "outputs": [
        {
          "output_type": "stream",
          "name": "stdout",
          "text": [
            "Downloading riceleafs.zip to /content\n",
            "100% 14.9G/14.9G [02:01<00:00, 131MB/s]\n",
            "100% 14.9G/14.9G [02:01<00:00, 132MB/s]\n"
          ]
        }
      ],
      "source": [
        "! kaggle datasets download -d shayanriyaz/riceleafs\n",
        "! mkdir data/shayanriyaz\n",
        "! unzip riceleafs.zip -d data/shayanriyaz\n",
        "os.remove('riceleafs.zip')"
      ]
    },
    {
      "cell_type": "markdown",
      "source": [
        "### Download chandrug Dataset\n",
        "Classes : Leaf smut (40), Brown spot (40), Blast (80), Blight (80), Tungro (80)"
      ],
      "metadata": {
        "id": "taXRRjCPRTyW"
      }
    },
    {
      "cell_type": "code",
      "source": [
        "! kaggle datasets download -d chandrug/riceleafdisease\n",
        "! mkdir data/chandrug\n",
        "! unzip riceleafdisease.zip -d data/chandrug\n",
        "os.remove('riceleafdisease.zip')"
      ],
      "metadata": {
        "id": "5xj11fDYQlPd"
      },
      "execution_count": null,
      "outputs": []
    },
    {
      "cell_type": "markdown",
      "source": [
        "### Download tedisetiady Dataset\n",
        "Classes : Blast (80), Blight (80), Tungro (80)"
      ],
      "metadata": {
        "id": "fvzCOe2GR2Hr"
      }
    },
    {
      "cell_type": "code",
      "source": [
        "! kaggle datasets download -d tedisetiady/leaf-rice-disease-indonesia\n",
        "! mkdir data/tedisetiady\n",
        "! unzip leaf-rice-disease-indonesia.zip -d data/tedisetiady\n",
        "os.remove('leaf-rice-disease-indonesia.zip')"
      ],
      "metadata": {
        "id": "4cDwpsY0R2Zo"
      },
      "execution_count": null,
      "outputs": []
    },
    {
      "cell_type": "markdown",
      "source": [
        "### Download vbookshelf Dataset\n",
        "Classes : Leaf smut (40), Brown spot (40), Blight (40)"
      ],
      "metadata": {
        "id": "ItQT8PxXSJqX"
      }
    },
    {
      "cell_type": "code",
      "source": [
        "! kaggle datasets download -d vbookshelf/rice-leaf-diseases\n",
        "! mkdir data/vbookshelf\n",
        "! unzip rice-leaf-diseases.zip -d data/vbookshelf\n",
        "os.remove('rice-leaf-diseases.zip')"
      ],
      "metadata": {
        "id": "cLEqJe4CSKD8"
      },
      "execution_count": null,
      "outputs": []
    },
    {
      "cell_type": "markdown",
      "source": [
        "## Mixed Dataset"
      ],
      "metadata": {
        "id": "McPvpe63Ym1P"
      }
    },
    {
      "cell_type": "code",
      "source": [
        "diseases = (\"LeafSmut\", \"BrownSpot\", \"Blight\", \"Blast\", \"Tungro\", \"Hispa\", \"Healthy\")\n",
        "dataset_dir = 'data/mixed'\n",
        "alldata_dir = 'data/mixed/alldata'"
      ],
      "metadata": {
        "id": "qxfOwbn4boiW"
      },
      "execution_count": null,
      "outputs": []
    },
    {
      "cell_type": "code",
      "source": [
        "os.mkdir(dataset_dir)\n",
        "os.mkdir(alldata_dir)\n",
        "for disease in diseases:\n",
        "  os.mkdir(os.path.join(alldata_dir, disease))"
      ],
      "metadata": {
        "id": "0aiDk4g0VawE"
      },
      "execution_count": null,
      "outputs": []
    },
    {
      "cell_type": "code",
      "source": [
        "def copy_to_mixed_dataset(base_source_dir, source_list, target_list):\n",
        "  for index, value in enumerate(source_list):\n",
        "    dest_dir = os.path.join(alldata_dir, target_list[index])\n",
        "    source_dir = os.path.join(base_source_dir, source_list[index])\n",
        "    list_data = os.listdir(source_dir)\n",
        "\n",
        "    for data in list_data:\n",
        "      if data in os.listdir(dest_dir):\n",
        "        continue\n",
        "      source = os.path.join(source_dir, data)\n",
        "      dest = os.path.join(dest_dir, data)\n",
        "      shutil.copy(source, dest)"
      ],
      "metadata": {
        "id": "kTxtgO3mkk8X"
      },
      "execution_count": 47,
      "outputs": []
    },
    {
      "cell_type": "markdown",
      "source": [
        "### Copy shayanriyaz Dataset"
      ],
      "metadata": {
        "id": "JcleOkJxd3cl"
      }
    },
    {
      "cell_type": "markdown",
      "source": [
        "#### train dir"
      ],
      "metadata": {
        "id": "qGxIsxbXecFY"
      }
    },
    {
      "cell_type": "code",
      "source": [
        "base_source_dir = 'data/shayanriyaz/RiceLeafs/train'\n",
        "source_list = os.listdir(base_source_dir)\n",
        "print(\"Directory source :\", source_list)"
      ],
      "metadata": {
        "id": "Sj9QH1dbd0ZT",
        "colab": {
          "base_uri": "https://localhost:8080/"
        },
        "outputId": "b86fcdb9-150a-4630-a202-795bfde0846d"
      },
      "execution_count": 41,
      "outputs": [
        {
          "output_type": "stream",
          "name": "stdout",
          "text": [
            "Directory source : ['BrownSpot', 'Healthy', 'LeafBlast', 'Hispa']\n"
          ]
        }
      ]
    },
    {
      "cell_type": "code",
      "source": [
        "target_list = ['BrownSpot', 'Healthy', 'Blast', 'Hispa']\n",
        "print(\"Directory destination :\", target_list)"
      ],
      "metadata": {
        "colab": {
          "base_uri": "https://localhost:8080/"
        },
        "id": "C3SED_RRirF3",
        "outputId": "6e4ec5a4-adfd-4fc7-9d4b-03de9537a1ec"
      },
      "execution_count": 42,
      "outputs": [
        {
          "output_type": "stream",
          "name": "stdout",
          "text": [
            "Directory destination : ['BrownSpot', 'Healthy', 'Blast', 'Hispa']\n"
          ]
        }
      ]
    },
    {
      "cell_type": "code",
      "source": [
        "copy_to_mixed_dataset(base_source_dir, source_list, target_list)"
      ],
      "metadata": {
        "id": "6oAQYEOGfjHR"
      },
      "execution_count": 43,
      "outputs": []
    },
    {
      "cell_type": "markdown",
      "source": [
        "#### val dir"
      ],
      "metadata": {
        "id": "wflbAmG2kEbw"
      }
    },
    {
      "cell_type": "code",
      "source": [
        "base_source_dir = 'data/shayanriyaz/RiceLeafs/validation'\n",
        "source_list = os.listdir(base_source_dir)\n",
        "print(\"Directory source :\", source_list)"
      ],
      "metadata": {
        "colab": {
          "base_uri": "https://localhost:8080/"
        },
        "id": "wu416GYugIDB",
        "outputId": "344fd3e3-25b7-4613-b559-be4569be9858"
      },
      "execution_count": 44,
      "outputs": [
        {
          "output_type": "stream",
          "name": "stdout",
          "text": [
            "Directory source : ['BrownSpot', 'Healthy', 'LeafBlast', 'Hispa']\n"
          ]
        }
      ]
    },
    {
      "cell_type": "code",
      "source": [
        "target_list = ['BrownSpot', 'Healthy', 'Blast', 'Hispa']\n",
        "print(\"Directory destination :\", target_list)"
      ],
      "metadata": {
        "colab": {
          "base_uri": "https://localhost:8080/"
        },
        "id": "q-Okx_AEkLns",
        "outputId": "9a2e6eb7-4006-4988-d12e-4beb23c5e42f"
      },
      "execution_count": 45,
      "outputs": [
        {
          "output_type": "stream",
          "name": "stdout",
          "text": [
            "Directory destination : ['BrownSpot', 'Healthy', 'Blast', 'Hispa']\n"
          ]
        }
      ]
    },
    {
      "cell_type": "code",
      "source": [
        "copy_to_mixed_dataset(base_source_dir, source_list, target_list)"
      ],
      "metadata": {
        "id": "0AWIoOM3kMk2"
      },
      "execution_count": 46,
      "outputs": []
    },
    {
      "cell_type": "markdown",
      "source": [
        "### Copy chandrug Dataset"
      ],
      "metadata": {
        "id": "b-8h5y2ilFPr"
      }
    },
    {
      "cell_type": "code",
      "source": [
        "base_source_dir = 'data/chandrug/rice-leaf-disease'\n",
        "source_list = os.listdir(base_source_dir)\n",
        "print(\"Directory source :\", source_list)"
      ],
      "metadata": {
        "colab": {
          "base_uri": "https://localhost:8080/"
        },
        "id": "Q9CteVGtlKv8",
        "outputId": "b8fef6ed-8a93-4db5-8b94-471a4dde6044"
      },
      "execution_count": 48,
      "outputs": [
        {
          "output_type": "stream",
          "name": "stdout",
          "text": [
            "Directory source : ['tungro', 'Brown spot', 'blight', 'blast', 'Leaf smut']\n"
          ]
        }
      ]
    },
    {
      "cell_type": "code",
      "source": [
        "target_list = ['Tungro', 'BrownSpot', 'Blight', 'Blast', 'LeafSmut']\n",
        "print(\"Directory destination :\", target_list)"
      ],
      "metadata": {
        "colab": {
          "base_uri": "https://localhost:8080/"
        },
        "id": "kH2hE7FalS_n",
        "outputId": "ecac54ba-9d16-4e65-9166-c44f593af510"
      },
      "execution_count": 49,
      "outputs": [
        {
          "output_type": "stream",
          "name": "stdout",
          "text": [
            "Directory destination : ['Tungro', 'BrownSpot', 'Blight', 'Blast', 'LeafSmut']\n"
          ]
        }
      ]
    },
    {
      "cell_type": "code",
      "source": [
        "copy_to_mixed_dataset(base_source_dir, source_list, target_list)"
      ],
      "metadata": {
        "id": "nYuigVdUlZtr"
      },
      "execution_count": 50,
      "outputs": []
    },
    {
      "cell_type": "markdown",
      "source": [
        "### Copy tedisetiady Dataset"
      ],
      "metadata": {
        "id": "cRmqbTHnliMh"
      }
    },
    {
      "cell_type": "code",
      "source": [
        "base_source_dir = 'data/tedisetiady/'\n",
        "source_list = os.listdir(base_source_dir)\n",
        "print(\"Directory source :\", source_list)"
      ],
      "metadata": {
        "colab": {
          "base_uri": "https://localhost:8080/"
        },
        "id": "MCxhsor6ljlH",
        "outputId": "ef12e572-864b-46f3-cef7-7f3c08bb8d0c"
      },
      "execution_count": 60,
      "outputs": [
        {
          "output_type": "stream",
          "name": "stdout",
          "text": [
            "Directory source : ['tungro', 'blight', 'blast']\n"
          ]
        }
      ]
    },
    {
      "cell_type": "code",
      "source": [
        "target_list = ['Tungro', 'Blight', 'Blast']\n",
        "print(\"Directory destination :\", target_list)"
      ],
      "metadata": {
        "colab": {
          "base_uri": "https://localhost:8080/"
        },
        "id": "a2V5cNWvloR-",
        "outputId": "52b984af-310e-4eb0-fec2-aca97e05f01c"
      },
      "execution_count": 61,
      "outputs": [
        {
          "output_type": "stream",
          "name": "stdout",
          "text": [
            "Directory destination : ['Tungro', 'Blight', 'Blast']\n"
          ]
        }
      ]
    },
    {
      "cell_type": "code",
      "source": [
        "copy_to_mixed_dataset(base_source_dir, source_list, target_list)"
      ],
      "metadata": {
        "id": "S9Jd8amnluHY"
      },
      "execution_count": 62,
      "outputs": []
    },
    {
      "cell_type": "markdown",
      "source": [
        "### Copy vbookshelf Dataset"
      ],
      "metadata": {
        "id": "IfJ6A1gRl0dY"
      }
    },
    {
      "cell_type": "code",
      "source": [
        "base_source_dir = 'data/vbookshelf/rice_leaf_diseases'\n",
        "source_list = os.listdir(base_source_dir)\n",
        "print(\"Directory source :\", source_list)"
      ],
      "metadata": {
        "colab": {
          "base_uri": "https://localhost:8080/"
        },
        "id": "GW-sE-4WlwdV",
        "outputId": "f4f8d8a2-5b2f-47c7-ab3c-f601b2d7a151"
      },
      "execution_count": 55,
      "outputs": [
        {
          "output_type": "stream",
          "name": "stdout",
          "text": [
            "Directory source : ['Bacterial leaf blight', 'Brown spot', 'Leaf smut']\n"
          ]
        }
      ]
    },
    {
      "cell_type": "code",
      "source": [
        "target_list = ['Blight', 'BrownSpot', 'LeafSmut']\n",
        "print(\"Directory destination :\", target_list)"
      ],
      "metadata": {
        "colab": {
          "base_uri": "https://localhost:8080/"
        },
        "id": "wB8oUYmKl-Bl",
        "outputId": "8d354612-ad5a-4955-9ee6-0a77f74290a8"
      },
      "execution_count": 56,
      "outputs": [
        {
          "output_type": "stream",
          "name": "stdout",
          "text": [
            "Directory destination : ['Blight', 'BrownSpot', 'LeafSmut']\n"
          ]
        }
      ]
    },
    {
      "cell_type": "code",
      "source": [
        "copy_to_mixed_dataset(base_source_dir, source_list, target_list)"
      ],
      "metadata": {
        "id": "wXVy1J83mElY"
      },
      "execution_count": 57,
      "outputs": []
    },
    {
      "cell_type": "markdown",
      "source": [
        "## Result Mixed Dataset"
      ],
      "metadata": {
        "id": "-r5xbxwGnv1t"
      }
    },
    {
      "cell_type": "code",
      "source": [
        "print(\"Total data from each class disease:\")\n",
        "for disease in diseases:\n",
        "  list_file = os.listdir(os.path.join(alldata_dir, disease))\n",
        "  print('{}: {}'.format(disease, len(list_file)))"
      ],
      "metadata": {
        "colab": {
          "base_uri": "https://localhost:8080/"
        },
        "id": "kvtDifnSmFur",
        "outputId": "0badfe8e-6eb2-4f7b-8d88-9bc8448fec63"
      },
      "execution_count": 69,
      "outputs": [
        {
          "output_type": "stream",
          "name": "stdout",
          "text": [
            "Total data from each class disease:\n",
            "LeafSmut: 80\n",
            "BrownSpot: 603\n",
            "Blight: 200\n",
            "Blast: 939\n",
            "Tungro: 160\n",
            "Hispa: 565\n",
            "Healthy: 1488\n"
          ]
        }
      ]
    },
    {
      "cell_type": "code",
      "source": [
        ""
      ],
      "metadata": {
        "id": "-2Ad5zd_mO6G"
      },
      "execution_count": null,
      "outputs": []
    }
  ]
}