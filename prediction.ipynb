{
  "nbformat": 4,
  "nbformat_minor": 0,
  "metadata": {
    "colab": {
      "provenance": []
    },
    "kernelspec": {
      "name": "python3",
      "display_name": "Python 3"
    },
    "language_info": {
      "name": "python"
    },
    "accelerator": "GPU",
    "gpuClass": "standard"
  },
  "cells": [
    {
      "cell_type": "code",
      "execution_count": 1,
      "metadata": {
        "id": "twXcP1fRbeb-"
      },
      "outputs": [],
      "source": [
        "# data process\n",
        "import numpy as np\n",
        "\n",
        "# tensorflow utils\n",
        "import tensorflow as tf\n",
        "\n",
        "# image processing\n",
        "from PIL import Image\n",
        "import cv2"
      ]
    },
    {
      "cell_type": "code",
      "source": [
        "# mount drive to colab notebook (google colab only)\n",
        "from google.colab import drive\n",
        "drive.mount('/content/drive')"
      ],
      "metadata": {
        "colab": {
          "base_uri": "https://localhost:8080/"
        },
        "id": "mjR9ifPWewuK",
        "outputId": "1c5beead-8e7b-419a-8733-485c99cd0d67"
      },
      "execution_count": 2,
      "outputs": [
        {
          "output_type": "stream",
          "name": "stdout",
          "text": [
            "Drive already mounted at /content/drive; to attempt to forcibly remount, call drive.mount(\"/content/drive\", force_remount=True).\n"
          ]
        }
      ]
    },
    {
      "cell_type": "code",
      "source": [
        "class TanaminModels:\n",
        "  \n",
        "  LEAF_MODEL_DIR = \"/content/drive/Shareddrives/Tanamin Team/Machine Learning/models/leaf_models/saved_model/BestMC_DenseNet121\"\n",
        "  PLANT_MODEL_DIR = \"/content/drive/Shareddrives/Tanamin Team/Machine Learning/models/plant_models/new_model/saved_model/best_modelDense_Klasifikasi_Daun\"\n",
        "  POTATO_MODEL_DIR = \"/content/drive/Shareddrives/Tanamin Team/Machine Learning/models/potato_models/saved_model/BestMC_DenseNet121\"\n",
        "  CORN_MODEL_DIR = \"/content/drive/Shareddrives/Tanamin Team/Machine Learning/models/corn_models/saved_model/BestMC_DenseNet121\"\n",
        "  RICE_MODEL_DIR = \"/content/drive/Shareddrives/Tanamin Team/Machine Learning/models/rice_models/saved_model/BestMC_DenseNet121\"\n",
        "  CASSAVA_MODEL_DIR = \"/content/drive/Shareddrives/Tanamin Team/Machine Learning/models/cassv_models/saved_model/BestMC_DenseNetModel\"\n",
        "  CHILI_MODEL_DIR = \"/content/drive/Shareddrives/Tanamin Team/Machine Learning/models/chili_models/saved_model/BestMC_bestmodelTFLEARNING\"\n",
        "  TOMATO_MODEL_DIR = \"/content/drive/Shareddrives/Tanamin Team/Machine Learning/models/tomat/saved_model/best_modelDense\"\n",
        "\n",
        "  LEAF_CLASSES = ['leaf', 'not_leaf']\n",
        "  PLANT_CLASSES = ['cassava', 'chili', 'corn', 'not_available', 'potato', 'rice', 'tomato']\n",
        "  POTATO_CLASSES = ['early_blight', 'late_blight', 'healthy']\n",
        "  CORN_CLASSES = ['common_rust', 'gray_leaf_spot', 'healthy', 'northern_leaf_blight']\n",
        "  RICE_CLASSES = ['blight', 'brown_spot', 'healthy', 'tungro']\n",
        "  CASSAVA_CLASSES = ['bacterial_blight', 'green_mottle', 'mosaic', 'healthy']\n",
        "  CHILI_CLASSES = ['leaf_curl', 'healthy', 'yellowish', 'kekurangan_magnesium', 'cercospora']\n",
        "  TOMATO_CLASSES = ['early_blight', 'kurang_magnesium', 'lalat_pengarat', 'leaf_mold', 'sehat', 'tomato_yellow_leaf_curl', 'septoria_leaf_spot', 'target_spot', 'bacterial_spot', 'embun_tepung', 'late_blight', 'mosaic']\n",
        "\n",
        "\n",
        "  def __init__(self):\n",
        "    self.leafModel = tf.keras.models.load_model(TanaminModels.LEAF_MODEL_DIR)\n",
        "    self.plantModel = tf.keras.models.load_model(TanaminModels.PLANT_MODEL_DIR)\n",
        "    self.potatoModel = tf.keras.models.load_model(TanaminModels.POTATO_MODEL_DIR)\n",
        "    self.cornModel = tf.keras.models.load_model(TanaminModels.CORN_MODEL_DIR)\n",
        "    self.riceModel = tf.keras.models.load_model(TanaminModels.RICE_MODEL_DIR)\n",
        "    self.cassavaModel = tf.keras.models.load_model(TanaminModels.CASSAVA_MODEL_DIR) # Warning: no compile\n",
        "    self.chiliModel = tf.keras.models.load_model(TanaminModels.CHILI_MODEL_DIR)\n",
        "    self.tomatoModel = tf.keras.models.load_model(TanaminModels.TOMATO_MODEL_DIR)\n",
        "\n",
        "\n",
        "  def leaf_predict(self, img):\n",
        "    result = self.leafModel.predict(img)\n",
        "    result = np.argmax(result)\n",
        "    print(\"leaf_predict_result:\", result)\n",
        "    return result\n",
        "\n",
        "\n",
        "  def plant_predict(self, img):\n",
        "    result = self.plantModel.predict(img)\n",
        "    result = np.argmax(result)\n",
        "    print(\"plant_predict_result:\", result)\n",
        "    return result\n",
        "\n",
        "\n",
        "  def disease_predict(self, img, plant):\n",
        "    if plant == \"cassava\":\n",
        "      result = self.cassavaModel.predict(img)\n",
        "      result_class = TanaminModels.CASSAVA_CLASSES[np.argmax(result)]\n",
        "\n",
        "    elif plant == \"chili\":\n",
        "      result = self.chiliModel.predict(img)\n",
        "      result_class = TanaminModels.CHILI_CLASSES[np.argmax(result)]\n",
        "\n",
        "    elif plant == \"corn\":\n",
        "      result = self.cornModel.predict(img)\n",
        "      result_class = TanaminModels.CORN_CLASSES[np.argmax(result)]\n",
        "\n",
        "    elif plant == \"potato\":\n",
        "      result = self.potatoModel.predict(img)\n",
        "      result_class = TanaminModels.POTATO_CLASSES[np.argmax(result)]\n",
        "\n",
        "    elif plant == \"rice\":\n",
        "      result = self.riceModel.predict(img)\n",
        "      result_class = TanaminModels.RICE_CLASSES[np.argmax(result)]\n",
        "\n",
        "    elif plant == \"tomato\":\n",
        "      result = self.tomatoModel.predict(img)\n",
        "      result_class = TanaminModels.TOMATO_CLASSES[np.argmax(result)]\n",
        "\n",
        "    accuracy = max(result[0]) * 100\n",
        "    print(\"disease_predict_result:\", result_class, accuracy)\n",
        "    \n",
        "    return result_class, accuracy"
      ],
      "metadata": {
        "id": "I2lsxu2RfDkZ"
      },
      "execution_count": 3,
      "outputs": []
    },
    {
      "cell_type": "code",
      "source": [
        "class TanaminPrediction:\n",
        "  \n",
        "  def __init__(self, models):\n",
        "    self.models = models\n",
        "\n",
        "\n",
        "  def __crop_image(self, img):\n",
        "    width, height, _ = img.shape\n",
        "    if width == height:\n",
        "        return img\n",
        "    img = np.array(img)\n",
        "    offset  = int(abs(height-width)/2)\n",
        "    if width>height:\n",
        "        img = img[:,offset:(width-offset),:]\n",
        "    else:\n",
        "        img = img[offset:(height-offset),:,:]\n",
        "    return img\n",
        "\n",
        "\n",
        "  def __preprocessing(self, img):\n",
        "    img = self.__crop_image(img)\n",
        "    img = cv2.resize(img, (224, 224))\n",
        "    img = np.expand_dims(img, axis=0)\n",
        "    img = img / 255\n",
        "    return img\n",
        "\n",
        "\n",
        "  def start_predict(self, img):\n",
        "    plant = None\n",
        "    accuracy = None\n",
        "    \n",
        "    img = self.__preprocessing(img)\n",
        "    result = self.models.leaf_predict(img)\n",
        "\n",
        "    if self.models.LEAF_CLASSES[result] == \"not_leaf\":\n",
        "      result = \"Image is not leaf\" \n",
        "    else:\n",
        "      result = self.models.plant_predict(img)\n",
        "      if self.models.PLANT_CLASSES[result] == \"not_available\":\n",
        "        result = \"This plant is not yet available\" \n",
        "      else:\n",
        "        plant = self.models.PLANT_CLASSES[result]\n",
        "        result, accuracy = self.models.disease_predict(img, plant)\n",
        "    \n",
        "    final_result = {\n",
        "        'result': result,\n",
        "        'accuracy': accuracy,\n",
        "        'plant': plant\n",
        "    }\n",
        "\n",
        "    return final_result"
      ],
      "metadata": {
        "id": "hQv_k4rMcXvm"
      },
      "execution_count": 4,
      "outputs": []
    },
    {
      "cell_type": "code",
      "source": [
        "import timeit\n",
        "\n",
        "start = timeit.default_timer()\n",
        "\n",
        "#Your statements here\n",
        "tanaminModels = TanaminModels()\n",
        "tanaminPrediction = TanaminPrediction(tanaminModels)\n",
        "\n",
        "stop = timeit.default_timer()\n",
        "\n",
        "print('Time: ', stop - start)  "
      ],
      "metadata": {
        "colab": {
          "base_uri": "https://localhost:8080/"
        },
        "id": "Xq0IZwjoccv3",
        "outputId": "8de32c4f-e37b-4c0d-f98c-1d01d60b2690"
      },
      "execution_count": 5,
      "outputs": [
        {
          "output_type": "stream",
          "name": "stderr",
          "text": [
            "WARNING:tensorflow:No training configuration found in save file, so the model was *not* compiled. Compile it manually.\n"
          ]
        },
        {
          "output_type": "stream",
          "name": "stdout",
          "text": [
            "Time:  152.1946363279999\n"
          ]
        }
      ]
    },
    {
      "cell_type": "code",
      "source": [
        "image = np.asarray(Image.open('/content/potato-early-blight.jpeg'))"
      ],
      "metadata": {
        "id": "TQzZmBAsgDHd"
      },
      "execution_count": 14,
      "outputs": []
    },
    {
      "cell_type": "code",
      "source": [
        "tanaminPrediction.start_predict(image)"
      ],
      "metadata": {
        "colab": {
          "base_uri": "https://localhost:8080/"
        },
        "id": "6Gk6IsXXoNO3",
        "outputId": "b724736d-daf1-4aab-e0b7-30acf087fe68"
      },
      "execution_count": 15,
      "outputs": [
        {
          "output_type": "stream",
          "name": "stdout",
          "text": [
            "1/1 [==============================] - 0s 30ms/step\n",
            "leaf_predict_result: 0\n",
            "1/1 [==============================] - 0s 30ms/step\n",
            "plant_predict_result: 4\n",
            "1/1 [==============================] - 2s 2s/step\n",
            "disease_predict_result: early_blight 99.9339759349823\n"
          ]
        },
        {
          "output_type": "execute_result",
          "data": {
            "text/plain": [
              "{'result': 'early_blight', 'accuracy': 99.9339759349823, 'plant': 'potato'}"
            ]
          },
          "metadata": {},
          "execution_count": 15
        }
      ]
    },
    {
      "cell_type": "markdown",
      "source": [
        "# Ignore Code Below"
      ],
      "metadata": {
        "id": "4AnOKN_7HwC1"
      }
    },
    {
      "cell_type": "code",
      "source": [
        "import timeit\n",
        "\n",
        "start = timeit.default_timer()\n",
        "\n",
        "#Your statements here\n",
        "\n",
        "stop = timeit.default_timer()\n",
        "\n",
        "print('Time: ', stop - start)  "
      ],
      "metadata": {
        "colab": {
          "base_uri": "https://localhost:8080/"
        },
        "id": "trf66VLWj1_9",
        "outputId": "e2d4c764-eb2f-4117-8f9a-07ea0985b2b9"
      },
      "execution_count": null,
      "outputs": [
        {
          "output_type": "stream",
          "name": "stdout",
          "text": [
            "Time:  4.6348000068974216e-05\n"
          ]
        }
      ]
    },
    {
      "cell_type": "code",
      "source": [
        "tf.keras.models.load_model(TanaminModels.LEAF_MODEL_DIR)"
      ],
      "metadata": {
        "id": "HBoDCs6wnISj",
        "colab": {
          "base_uri": "https://localhost:8080/"
        },
        "outputId": "4a6809e5-a920-4318-8a58-d669bf5164c0"
      },
      "execution_count": null,
      "outputs": [
        {
          "output_type": "execute_result",
          "data": {
            "text/plain": [
              "<keras.engine.sequential.Sequential at 0x7ff4205d9d90>"
            ]
          },
          "metadata": {},
          "execution_count": 14
        }
      ]
    },
    {
      "cell_type": "code",
      "source": [
        "tf.keras.models.load_model(TanaminModels.PLANT_MODEL_DIR)"
      ],
      "metadata": {
        "colab": {
          "base_uri": "https://localhost:8080/"
        },
        "id": "xvo2nC4DFXMP",
        "outputId": "363459f3-ca97-41fe-c5e9-ed29f4a04bbc"
      },
      "execution_count": 10,
      "outputs": [
        {
          "output_type": "execute_result",
          "data": {
            "text/plain": [
              "<keras.engine.sequential.Sequential at 0x7fa556340850>"
            ]
          },
          "metadata": {},
          "execution_count": 10
        }
      ]
    },
    {
      "cell_type": "code",
      "source": [
        "tf.keras.models.load_model(TanaminModels.POTATO_MODEL_DIR)"
      ],
      "metadata": {
        "colab": {
          "base_uri": "https://localhost:8080/"
        },
        "id": "NbR-RBYMFYGI",
        "outputId": "23549641-57db-48e5-9de6-5715736a7282"
      },
      "execution_count": null,
      "outputs": [
        {
          "output_type": "execute_result",
          "data": {
            "text/plain": [
              "<keras.engine.sequential.Sequential at 0x7ff407f4bd10>"
            ]
          },
          "metadata": {},
          "execution_count": 15
        }
      ]
    },
    {
      "cell_type": "code",
      "source": [
        "tf.keras.models.load_model(TanaminModels.CORN_MODEL_DIR)"
      ],
      "metadata": {
        "colab": {
          "base_uri": "https://localhost:8080/"
        },
        "id": "wJKA3vjpFY-N",
        "outputId": "e6bf74d5-bacf-4128-e4d8-6b54aed261fa"
      },
      "execution_count": null,
      "outputs": [
        {
          "output_type": "execute_result",
          "data": {
            "text/plain": [
              "<keras.engine.sequential.Sequential at 0x7ff3ff746890>"
            ]
          },
          "metadata": {},
          "execution_count": 16
        }
      ]
    },
    {
      "cell_type": "code",
      "source": [
        "tf.keras.models.load_model(TanaminModels.RICE_MODEL_DIR)"
      ],
      "metadata": {
        "colab": {
          "base_uri": "https://localhost:8080/"
        },
        "id": "dx2pRi_VFaFf",
        "outputId": "4d025bcc-4e0b-42a4-91f1-bf74d4757df6"
      },
      "execution_count": null,
      "outputs": [
        {
          "output_type": "execute_result",
          "data": {
            "text/plain": [
              "<keras.engine.sequential.Sequential at 0x7ff4204bff90>"
            ]
          },
          "metadata": {},
          "execution_count": 17
        }
      ]
    },
    {
      "cell_type": "code",
      "source": [
        "tf.keras.models.load_model(TanaminModels.CASSAVA_MODEL_DIR)"
      ],
      "metadata": {
        "colab": {
          "base_uri": "https://localhost:8080/"
        },
        "id": "e6LTcgf4Faz5",
        "outputId": "9906f56f-9dd0-426a-a615-c54aead91db9"
      },
      "execution_count": null,
      "outputs": [
        {
          "output_type": "stream",
          "name": "stderr",
          "text": [
            "WARNING:tensorflow:No training configuration found in save file, so the model was *not* compiled. Compile it manually.\n"
          ]
        },
        {
          "output_type": "execute_result",
          "data": {
            "text/plain": [
              "<keras.engine.sequential.Sequential at 0x7ff3f7271390>"
            ]
          },
          "metadata": {},
          "execution_count": 18
        }
      ]
    },
    {
      "cell_type": "code",
      "source": [
        "tf.keras.models.load_model(TanaminModels.CHILI_MODEL_DIR)"
      ],
      "metadata": {
        "colab": {
          "base_uri": "https://localhost:8080/"
        },
        "id": "wkSEXUnGFblE",
        "outputId": "06e22d13-3a22-4254-e5d0-7eca3fe3043a"
      },
      "execution_count": null,
      "outputs": [
        {
          "output_type": "execute_result",
          "data": {
            "text/plain": [
              "<keras.engine.functional.Functional at 0x7ff3ef2041d0>"
            ]
          },
          "metadata": {},
          "execution_count": 19
        }
      ]
    },
    {
      "cell_type": "code",
      "source": [
        "tf.keras.models.load_model(TanaminModels.TOMATO_MODEL_DIR)"
      ],
      "metadata": {
        "colab": {
          "base_uri": "https://localhost:8080/"
        },
        "id": "0KBTTyWyFcXU",
        "outputId": "74e14dcc-5e02-44d1-a385-58f68ce68c4c"
      },
      "execution_count": 6,
      "outputs": [
        {
          "output_type": "execute_result",
          "data": {
            "text/plain": [
              "<keras.engine.sequential.Sequential at 0x7fa5d1c25410>"
            ]
          },
          "metadata": {},
          "execution_count": 6
        }
      ]
    },
    {
      "cell_type": "code",
      "source": [],
      "metadata": {
        "id": "rhGBbQEkjBwa"
      },
      "execution_count": null,
      "outputs": []
    }
  ]
}